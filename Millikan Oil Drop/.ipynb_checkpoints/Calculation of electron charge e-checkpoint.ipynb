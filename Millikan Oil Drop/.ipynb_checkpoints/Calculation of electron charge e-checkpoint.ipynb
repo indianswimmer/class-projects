{
 "cells": [
  {
   "cell_type": "markdown",
   "metadata": {
    "deletable": true,
    "editable": true
   },
   "source": [
    "# Calculation of the electron charge e by minimzation of chi-squared analysis\n",
    "\n",
    "#### Done for PHYS 2605 Millikan Oil Drop experiment\n",
    "\n",
    "### Authors: Aditya Pidaparti and Erik Wasleske"
   ]
  },
  {
   "cell_type": "markdown",
   "metadata": {
    "deletable": true,
    "editable": true
   },
   "source": [
    "Our first step is to import necessary libraries. For this project, we'll need numpy, pandas, and matplotlib"
   ]
  },
  {
   "cell_type": "code",
   "execution_count": 1,
   "metadata": {
    "collapsed": true,
    "deletable": true,
    "editable": true
   },
   "outputs": [],
   "source": [
    "import numpy as np\n",
    "import pandas as pd\n",
    "import matplotlib.pyplot as plt\n",
    "import seaborn as sns"
   ]
  },
  {
   "cell_type": "markdown",
   "metadata": {
    "deletable": true,
    "editable": true
   },
   "source": [
    "Next, we'll import our data using pandas' default read_csv function."
   ]
  },
  {
   "cell_type": "code",
   "execution_count": 2,
   "metadata": {
    "collapsed": true,
    "deletable": true,
    "editable": true
   },
   "outputs": [],
   "source": [
    "data = pd.read_csv('chi-squared-data.csv')"
   ]
  },
  {
   "cell_type": "markdown",
   "metadata": {
    "deletable": true,
    "editable": true
   },
   "source": [
    "Here, I halve the error due to the droplets core size being less than 1/64 of an inch in error. They actually tended to be far smaller, but to stay safe, 1/16 * 1/4 of an inch is used for error here."
   ]
  },
  {
   "cell_type": "code",
   "execution_count": 3,
   "metadata": {
    "collapsed": false,
    "deletable": true,
    "editable": true
   },
   "outputs": [
    {
     "data": {
      "text/html": [
       "<div>\n",
       "<table border=\"1\" class=\"dataframe\">\n",
       "  <thead>\n",
       "    <tr style=\"text-align: right;\">\n",
       "      <th></th>\n",
       "      <th>Drop</th>\n",
       "      <th>Average Charge (C )(10^-19)</th>\n",
       "      <th>δ Charge C )(10^-19)</th>\n",
       "    </tr>\n",
       "  </thead>\n",
       "  <tbody>\n",
       "    <tr>\n",
       "      <th>0</th>\n",
       "      <td>1</td>\n",
       "      <td>-17.867794</td>\n",
       "      <td>0.200009</td>\n",
       "    </tr>\n",
       "    <tr>\n",
       "      <th>1</th>\n",
       "      <td>2</td>\n",
       "      <td>-19.602169</td>\n",
       "      <td>0.194181</td>\n",
       "    </tr>\n",
       "    <tr>\n",
       "      <th>2</th>\n",
       "      <td>3</td>\n",
       "      <td>-18.976354</td>\n",
       "      <td>0.386856</td>\n",
       "    </tr>\n",
       "    <tr>\n",
       "      <th>3</th>\n",
       "      <td>6</td>\n",
       "      <td>-7.505119</td>\n",
       "      <td>0.159900</td>\n",
       "    </tr>\n",
       "    <tr>\n",
       "      <th>4</th>\n",
       "      <td>10</td>\n",
       "      <td>-3.647575</td>\n",
       "      <td>0.334236</td>\n",
       "    </tr>\n",
       "    <tr>\n",
       "      <th>5</th>\n",
       "      <td>11</td>\n",
       "      <td>-2.169582</td>\n",
       "      <td>0.126538</td>\n",
       "    </tr>\n",
       "    <tr>\n",
       "      <th>6</th>\n",
       "      <td>14</td>\n",
       "      <td>-1.068135</td>\n",
       "      <td>0.062226</td>\n",
       "    </tr>\n",
       "    <tr>\n",
       "      <th>7</th>\n",
       "      <td>15</td>\n",
       "      <td>-2.062686</td>\n",
       "      <td>0.097329</td>\n",
       "    </tr>\n",
       "    <tr>\n",
       "      <th>8</th>\n",
       "      <td>16</td>\n",
       "      <td>-1.152863</td>\n",
       "      <td>0.072329</td>\n",
       "    </tr>\n",
       "    <tr>\n",
       "      <th>9</th>\n",
       "      <td>17</td>\n",
       "      <td>-2.149017</td>\n",
       "      <td>0.129148</td>\n",
       "    </tr>\n",
       "  </tbody>\n",
       "</table>\n",
       "</div>"
      ],
      "text/plain": [
       "   Drop  Average Charge (C )(10^-19)  δ Charge C )(10^-19)\n",
       "0     1                   -17.867794              0.200009\n",
       "1     2                   -19.602169              0.194181\n",
       "2     3                   -18.976354              0.386856\n",
       "3     6                    -7.505119              0.159900\n",
       "4    10                    -3.647575              0.334236\n",
       "5    11                    -2.169582              0.126538\n",
       "6    14                    -1.068135              0.062226\n",
       "7    15                    -2.062686              0.097329\n",
       "8    16                    -1.152863              0.072329\n",
       "9    17                    -2.149017              0.129148"
      ]
     },
     "execution_count": 3,
     "metadata": {},
     "output_type": "execute_result"
    }
   ],
   "source": [
    "data['δ Charge C )(10^-19)'] = data['δ Charge C )(10^-19)']/2\n",
    "data"
   ]
  },
  {
   "cell_type": "markdown",
   "metadata": {
    "deletable": true,
    "editable": true
   },
   "source": [
    "The next step is to make our predictions array with potential values of e. Keep in mind the accepted value of e is -1.60217662 × 10^-19 coulombs. Our predictions will vary from 0.6e to 4e. Also, to make sure floating point doesn't become an issue, all calculations will be done without the 10^-19 prefactor."
   ]
  },
  {
   "cell_type": "code",
   "execution_count": 4,
   "metadata": {
    "collapsed": false,
    "deletable": true,
    "editable": true
   },
   "outputs": [],
   "source": [
    "start_multiplier = .6\n",
    "end_multiplier = 10\n",
    "delimeter = .001\n",
    "multipliers = np.arange(start_multiplier, end_multiplier, delimeter)\n",
    "e = -1.60217662\n",
    "# print (\"Multipliers:\", multipliers)\n",
    "predictions = multipliers * e\n",
    "# print (\"Predictions for e:\", predictions)"
   ]
  },
  {
   "cell_type": "markdown",
   "metadata": {
    "deletable": true,
    "editable": true
   },
   "source": [
    "Now that we've got our predictions, we need to run chi-squared analysis on each prediction. \n",
    "\n",
    "Steps we'll take:\n",
    "1. Pick a predicted value of e, the basic unit of electric charge.\n",
    "2. Calculate the amount of charge in terms of e on the drop.\n",
    "3. Make a prediction for what the charge should be for each drop using rounding to nearest integer.\n",
    "4. Do a chi-squared goodness-of-fit test.\n",
    "5. Save the result alongside the prediction in an ordered pair\n",
    "6. Repeat 1-5 for all predictions of e.\n",
    "7. Plot results."
   ]
  },
  {
   "cell_type": "markdown",
   "metadata": {
    "deletable": true,
    "editable": true
   },
   "source": [
    "### Example of analysis using the actual value of e:"
   ]
  },
  {
   "cell_type": "code",
   "execution_count": 5,
   "metadata": {
    "collapsed": false,
    "deletable": true,
    "editable": true
   },
   "outputs": [
    {
     "name": "stdout",
     "output_type": "stream",
     "text": [
      "Chi-Squared value using the accepted value of e as a prediction: 73.4132818737211\n"
     ]
    },
    {
     "data": {
      "text/html": [
       "<div>\n",
       "<table border=\"1\" class=\"dataframe\">\n",
       "  <thead>\n",
       "    <tr style=\"text-align: right;\">\n",
       "      <th></th>\n",
       "      <th>Drop</th>\n",
       "      <th>Average Charge (C )(10^-19)</th>\n",
       "      <th>δ Charge C )(10^-19)</th>\n",
       "      <th>q/e</th>\n",
       "      <th>Expected q/e</th>\n",
       "      <th>chi_value_squared</th>\n",
       "    </tr>\n",
       "  </thead>\n",
       "  <tbody>\n",
       "    <tr>\n",
       "      <th>0</th>\n",
       "      <td>1</td>\n",
       "      <td>-17.867794</td>\n",
       "      <td>0.200009</td>\n",
       "      <td>11.15</td>\n",
       "      <td>11.0</td>\n",
       "      <td>0.562448</td>\n",
       "    </tr>\n",
       "    <tr>\n",
       "      <th>1</th>\n",
       "      <td>2</td>\n",
       "      <td>-19.602169</td>\n",
       "      <td>0.194181</td>\n",
       "      <td>12.23</td>\n",
       "      <td>12.0</td>\n",
       "      <td>1.402955</td>\n",
       "    </tr>\n",
       "    <tr>\n",
       "      <th>2</th>\n",
       "      <td>3</td>\n",
       "      <td>-18.976354</td>\n",
       "      <td>0.386856</td>\n",
       "      <td>11.84</td>\n",
       "      <td>12.0</td>\n",
       "      <td>0.171057</td>\n",
       "    </tr>\n",
       "    <tr>\n",
       "      <th>3</th>\n",
       "      <td>6</td>\n",
       "      <td>-7.505119</td>\n",
       "      <td>0.159900</td>\n",
       "      <td>4.68</td>\n",
       "      <td>5.0</td>\n",
       "      <td>4.005019</td>\n",
       "    </tr>\n",
       "    <tr>\n",
       "      <th>4</th>\n",
       "      <td>10</td>\n",
       "      <td>-3.647575</td>\n",
       "      <td>0.334236</td>\n",
       "      <td>2.28</td>\n",
       "      <td>2.0</td>\n",
       "      <td>0.701796</td>\n",
       "    </tr>\n",
       "    <tr>\n",
       "      <th>5</th>\n",
       "      <td>11</td>\n",
       "      <td>-2.169582</td>\n",
       "      <td>0.126538</td>\n",
       "      <td>1.35</td>\n",
       "      <td>1.0</td>\n",
       "      <td>7.650543</td>\n",
       "    </tr>\n",
       "    <tr>\n",
       "      <th>6</th>\n",
       "      <td>14</td>\n",
       "      <td>-1.068135</td>\n",
       "      <td>0.062226</td>\n",
       "      <td>0.67</td>\n",
       "      <td>1.0</td>\n",
       "      <td>28.124450</td>\n",
       "    </tr>\n",
       "    <tr>\n",
       "      <th>7</th>\n",
       "      <td>15</td>\n",
       "      <td>-2.062686</td>\n",
       "      <td>0.097329</td>\n",
       "      <td>1.29</td>\n",
       "      <td>1.0</td>\n",
       "      <td>8.877834</td>\n",
       "    </tr>\n",
       "    <tr>\n",
       "      <th>8</th>\n",
       "      <td>16</td>\n",
       "      <td>-1.152863</td>\n",
       "      <td>0.072329</td>\n",
       "      <td>0.72</td>\n",
       "      <td>1.0</td>\n",
       "      <td>14.986388</td>\n",
       "    </tr>\n",
       "    <tr>\n",
       "      <th>9</th>\n",
       "      <td>17</td>\n",
       "      <td>-2.149017</td>\n",
       "      <td>0.129148</td>\n",
       "      <td>1.34</td>\n",
       "      <td>1.0</td>\n",
       "      <td>6.930793</td>\n",
       "    </tr>\n",
       "  </tbody>\n",
       "</table>\n",
       "</div>"
      ],
      "text/plain": [
       "   Drop  Average Charge (C )(10^-19)  δ Charge C )(10^-19)    q/e  \\\n",
       "0     1                   -17.867794              0.200009  11.15   \n",
       "1     2                   -19.602169              0.194181  12.23   \n",
       "2     3                   -18.976354              0.386856  11.84   \n",
       "3     6                    -7.505119              0.159900   4.68   \n",
       "4    10                    -3.647575              0.334236   2.28   \n",
       "5    11                    -2.169582              0.126538   1.35   \n",
       "6    14                    -1.068135              0.062226   0.67   \n",
       "7    15                    -2.062686              0.097329   1.29   \n",
       "8    16                    -1.152863              0.072329   0.72   \n",
       "9    17                    -2.149017              0.129148   1.34   \n",
       "\n",
       "   Expected q/e  chi_value_squared  \n",
       "0          11.0           0.562448  \n",
       "1          12.0           1.402955  \n",
       "2          12.0           0.171057  \n",
       "3           5.0           4.005019  \n",
       "4           2.0           0.701796  \n",
       "5           1.0           7.650543  \n",
       "6           1.0          28.124450  \n",
       "7           1.0           8.877834  \n",
       "8           1.0          14.986388  \n",
       "9           1.0           6.930793  "
      ]
     },
     "execution_count": 5,
     "metadata": {},
     "output_type": "execute_result"
    }
   ],
   "source": [
    "test = data.copy()\n",
    "test[\"q/e\"] = round(test[\"Average Charge (C )(10^-19)\"]/e,2)\n",
    "test[\"Expected q/e\"] = round(test[\"q/e\"],0)\n",
    "test[\"chi_value_squared\"] = ((test[\"q/e\"] - test[\"Expected q/e\"]) / (test[\"δ Charge C )(10^-19)\"]) )** 2\n",
    "print (\"Chi-Squared value using the accepted value of e as a prediction:\", test[\"chi_value_squared\"].sum())\n",
    "test"
   ]
  },
  {
   "cell_type": "markdown",
   "metadata": {
    "deletable": true,
    "editable": true
   },
   "source": [
    "## Now for the real analysis:"
   ]
  },
  {
   "cell_type": "code",
   "execution_count": 6,
   "metadata": {
    "collapsed": false,
    "deletable": true,
    "editable": true
   },
   "outputs": [],
   "source": [
    "results = []\n",
    "degFreedom = 9\n",
    "for prediction in predictions:\n",
    "    test = data.copy()\n",
    "    test[\"q/e\"] = round(test[\"Average Charge (C )(10^-19)\"]/prediction,2)\n",
    "    test[\"Expected q/e\"] = round(test[\"q/e\"],0)\n",
    "    test[\"chi_value_squared\"] = ((test[\"q/e\"] - test[\"Expected q/e\"]) / (test[\"δ Charge C )(10^-19)\"]) )** 2\n",
    "    chiSquared = test[\"chi_value_squared\"].sum()\n",
    "    reducedChiSquared = chiSquared / degFreedom #Do the reduced chi squared value\n",
    "    results.append((prediction, reducedChiSquared))"
   ]
  },
  {
   "cell_type": "code",
   "execution_count": 7,
   "metadata": {
    "collapsed": false,
    "deletable": true,
    "editable": true
   },
   "outputs": [],
   "source": [
    "# for result in results:\n",
    "#     print (result)\n",
    "# Uncomment to see all results"
   ]
  },
  {
   "cell_type": "markdown",
   "metadata": {
    "deletable": true,
    "editable": true
   },
   "source": [
    "Now, we have our results. Time to plot them and find a minimum"
   ]
  },
  {
   "cell_type": "markdown",
   "metadata": {
    "deletable": true,
    "editable": true
   },
   "source": [
    "## Plotting results\n",
    "\n",
    "So, since results are saved as ordered pairs, but we need to have two arrays of the x-values and y-values, we'll separate them."
   ]
  },
  {
   "cell_type": "code",
   "execution_count": 8,
   "metadata": {
    "collapsed": true,
    "deletable": true,
    "editable": true
   },
   "outputs": [],
   "source": [
    "x_vals = []\n",
    "y_vals = []\n",
    "for result in results:\n",
    "    x_vals.append(result[0]) #predicted value of e\n",
    "    y_vals.append(result[1]) #resulting reduced chi-squared value"
   ]
  },
  {
   "cell_type": "markdown",
   "metadata": {
    "deletable": true,
    "editable": true
   },
   "source": [
    "Now that our data is cleaned and ready, we'll plot it. We will be generating two plots: one to identify the chi-squared values for a prediction of e, and the other to find the chi-squared + 1 value to measure the variance of e."
   ]
  },
  {
   "cell_type": "code",
   "execution_count": 9,
   "metadata": {
    "collapsed": false,
    "deletable": true,
    "editable": true
   },
   "outputs": [],
   "source": [
    "sns.set_style(\"whitegrid\")\n",
    "sns.set_context(\"paper\")\n",
    "def seabornPlot():\n",
    "    chi_vs_e = plt.plot(x_vals,y_vals)\n",
    "    plt.xlabel(\"Predicted value of e (10^ -19 C)\")\n",
    "    plt.ylabel(\"Reduced Chi-Squared value\")\n",
    "    plt.title(\"Determining the value of e, the value of one electron's charge\")\n",
    "    axes = plt.gca()\n",
    "    axes.set_xlim([-1.4,-1.8])\n",
    "    plt.show()\n",
    "\n",
    "def reducedPlot():\n",
    "    chi_vs_e = plt.plot(x_vals,y_vals)\n",
    "    plt.xlabel(\"Predicted value of e (10^ -19 C)\")\n",
    "    plt.ylabel(\"Reduced Chi-Squared value\")\n",
    "    plt.title (\"Determining the uncertainty in our prediction of e\")\n",
    "    axes = plt.gca()\n",
    "    axes.set_xlim([-7,-.9])\n",
    "    plt.show()"
   ]
  },
  {
   "cell_type": "markdown",
   "metadata": {
    "deletable": true,
    "editable": true
   },
   "source": [
    "We are going to assume the value of e is within the range of (-1.4 to -1.8) * 10^-19 Coulombs, based off the accepted value. Our reasoning for doing so is to find a local minimum that is not a quantized value that is an integer fraction of e."
   ]
  },
  {
   "cell_type": "code",
   "execution_count": 18,
   "metadata": {
    "collapsed": false,
    "deletable": true,
    "editable": true
   },
   "outputs": [
    {
     "data": {
      "image/png": "[encoded data removed]",
      "text/plain": [
       "<matplotlib.figure.Figure at 0x113050ba8>"
      ]
     },
     "metadata": {},
     "output_type": "display_data"
    }
   ],
   "source": [
    "sns.set_context(\"paper\")\n",
    "sns.set(font_scale=1.5)\n",
    "seabornPlot() #We need to find the local minimum in this range"
   ]
  },
  {
   "cell_type": "code",
   "execution_count": 11,
   "metadata": {
    "collapsed": false,
    "deletable": true,
    "editable": true
   },
   "outputs": [
    {
     "data": {
      "image/png": "[encoded data removed]",
      "text/plain": [
       "<matplotlib.figure.Figure at 0x10f6cfef0>"
      ]
     },
     "metadata": {},
     "output_type": "display_data"
    }
   ],
   "source": [
    "reducedPlot()"
   ]
  },
  {
   "cell_type": "code",
   "execution_count": 12,
   "metadata": {
    "collapsed": false,
    "deletable": true,
    "editable": true
   },
   "outputs": [
    {
     "name": "stdout",
     "output_type": "stream",
     "text": [
      "-1.50284166956 8.042056284191897\n"
     ]
    }
   ],
   "source": [
    "start_val = .9*e\n",
    "end_val = 1.1*e\n",
    "min_chi = 10 ** 10\n",
    "min_e = 0\n",
    "for result in results:\n",
    "    if result[0] < start_val and result[0] > end_val:\n",
    "        if min_chi > result[1]:\n",
    "            min_chi = result[1]\n",
    "            min_e = result[0]\n",
    "print (min_e, min_chi)"
   ]
  },
  {
   "cell_type": "code",
   "execution_count": 13,
   "metadata": {
    "collapsed": false,
    "deletable": true,
    "editable": true
   },
   "outputs": [
    {
     "name": "stdout",
     "output_type": "stream",
     "text": [
      "-1.5621222045 -1.46118507744 9.032624701908869 9.071240690942993\n"
     ]
    }
   ],
   "source": [
    "var_e_left = 0\n",
    "var_e_right = 0\n",
    "min_chi_plus_one_left = 0\n",
    "min_chi_plus_one_right = 0\n",
    "for result in results:\n",
    "    if result[0] > min_e: #First find the right variance paramter \n",
    "#         print (abs(result[1]))\n",
    "        if abs(result[1] - (min_chi+1)) < .05: #Smallest parameter that was needed to \n",
    "            var_e_right = result[0]\n",
    "            min_chi_plus_one_right = result[1]\n",
    "    if result[0] < min_e: #Now we find the left parameter\n",
    "        if abs(result[1] - (min_chi+1)) < .01:\n",
    "            var_e_left = result[0]\n",
    "            min_chi_plus_one_left = result[1]\n",
    "            break\n",
    "print (var_e_left, var_e_right,min_chi_plus_one_left, min_chi_plus_one_right)"
   ]
  },
  {
   "cell_type": "markdown",
   "metadata": {
    "deletable": true,
    "editable": true
   },
   "source": [
    "The results I get are a predicted value of e of -(1.50 +- .06) * 10 ^ -19 Coulombs. This is still within 2 uncertainties of the accepted value of e."
   ]
  },
  {
   "cell_type": "markdown",
   "metadata": {
    "collapsed": true,
    "deletable": true,
    "editable": true
   },
   "source": [
    "In addition, in the range shown in the first chart above, we can see a 2nd local minimum. We will now calculate that as well."
   ]
  },
  {
   "cell_type": "code",
   "execution_count": 14,
   "metadata": {
    "collapsed": false,
    "deletable": true,
    "editable": true
   },
   "outputs": [
    {
     "name": "stdout",
     "output_type": "stream",
     "text": [
      "-1.60538097324 8.076514618172991\n",
      "-1.72554421974 -1.56853091098 9.07772861898588 9.087061566721633\n",
      "-1.60538097324\n",
      "0.1201632465 -0.03685006226\n"
     ]
    }
   ],
   "source": [
    "second_start = -1.55\n",
    "second_end = -1.7\n",
    "second_min_chi = 10 ** 10\n",
    "second_min_e = 0\n",
    "for result in results:\n",
    "    if result[0] < second_start and result[0] > second_end:\n",
    "        if second_min_chi > result[1]:\n",
    "            second_min_chi = result[1]\n",
    "            second_min_e = result[0]\n",
    "print (second_min_e, second_min_chi)\n",
    "\n",
    "second_var_e_left = 0\n",
    "second_min_chi_plus_one_left = 0\n",
    "second_var_e_right = 0\n",
    "second_min_chi_plus_one_right = 0\n",
    "for result in results:\n",
    "    if result[0] > second_min_e: #Right first\n",
    "        if abs(result[1] - (second_min_chi+1)) < .05:\n",
    "            second_var_e_right = result[0]\n",
    "            second_min_chi_plus_one_right = result[1]\n",
    "    if result[0] < second_min_e: #Then left\n",
    "        if abs(result[1] - (second_min_chi+1)) < .002:\n",
    "            second_var_e_left = result[0]\n",
    "            second_min_chi_plus_one_left = result[1]\n",
    "            break\n",
    "print (second_var_e_left, second_var_e_right, second_min_chi_plus_one_left, second_min_chi_plus_one_right)\n",
    "print (second_min_e)\n",
    "print (second_min_e-second_var_e_left, second_min_e-second_var_e_right)"
   ]
  },
  {
   "cell_type": "markdown",
   "metadata": {
    "deletable": true,
    "editable": true
   },
   "source": [
    "Our second guess for the value of e would then be (-1.61 +- .12) * 10 ^ -19 C. This is within 1 uncertainty of the accepted value of e., so this minimum confirms Millikan's oil drop experiment as well. The sets of multiple minimums that are quite close to each other (reduced chi-squared values of 8.04 and 8.08) likely correspond to multiple data points agreeing on one local minimum while multiple points agree on another. We see the convergence of all data points in agreement as the predicted quantized charge goes to zero, as the reduced-chi-squared value falls rapidly as we approach 1/2 the accepted value of e, shown above in the 2nd plot. This agrees with predictions, as any error/uncertainty in data will cause points to be slightly out of alignment in a prediction, but as the predicted e gets smaller and smaller, the points will come more into alignment as more integer multiples are possible for charge quantization."
   ]
  }
 ],
 "metadata": {
  "kernelspec": {
   "display_name": "Python 3",
   "language": "python",
   "name": "python3"
  },
  "language_info": {
   "codemirror_mode": {
    "name": "ipython",
    "version": 3
   },
   "file_extension": ".py",
   "mimetype": "text/x-python",
   "name": "python",
   "nbconvert_exporter": "python",
   "pygments_lexer": "ipython3",
   "version": "3.6.0"
  }
 },
 "nbformat": 4,
 "nbformat_minor": 2
}
